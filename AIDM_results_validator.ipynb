{
 "cells": [
  {
   "cell_type": "markdown",
   "metadata": {},
   "source": [
    "## Constraints validator"
   ]
  },
  {
   "cell_type": "code",
   "execution_count": 40,
   "metadata": {},
   "outputs": [
    {
     "data": {
      "text/plain": [
       "array([[ True, False, False, False, False, False, False,  True,  True,\n",
       "        False, False, False, False, False, False, False,  True,  True,\n",
       "        False, False, False, False,  True,  True, False, False, False,\n",
       "        False, False, False, False,  True,  True, False, False, False,\n",
       "        False, False, False,  True,  True,  True, False, False, False,\n",
       "        False,  True,  True, False, False, False, False, False, False,\n",
       "        False,  True,  True, False, False, False, False,  True,  True],\n",
       "       [ True,  True,  True,  True,  True,  True, False, False,  True,\n",
       "         True,  True,  True,  True,  True,  True, False, False,  True,\n",
       "         True,  True,  True, False, False,  True,  True,  True,  True,\n",
       "         True,  True,  True, False, False,  True,  True,  True,  True,\n",
       "         True,  True, False, False, False,  True,  True,  True,  True,\n",
       "        False, False,  True,  True,  True,  True,  True,  True,  True,\n",
       "        False, False,  True,  True,  True,  True, False, False, False],\n",
       "       [False,  True,  True,  True,  True,  True,  True, False, False,\n",
       "         True,  True,  True,  True,  True,  True,  True, False, False,\n",
       "         True,  True,  True,  True, False, False,  True,  True,  True,\n",
       "         True,  True,  True,  True, False, False,  True,  True,  True,\n",
       "         True,  True,  True, False, False, False,  True,  True,  True,\n",
       "         True, False, False,  True,  True,  True,  True,  True,  True,\n",
       "         True, False, False,  True,  True,  True,  True, False, False],\n",
       "       [ True,  True,  True,  True,  True,  True,  True,  True,  True,\n",
       "         True,  True,  True,  True,  True, False, False, False,  True,\n",
       "         True, False, False, False, False,  True,  True,  True,  True,\n",
       "         True,  True,  True,  True,  True,  True,  True,  True,  True,\n",
       "         True, False, False, False,  True,  True,  True,  True,  True,\n",
       "        False, False,  True,  True,  True,  True,  True,  True,  True,\n",
       "        False, False,  True,  True,  True,  True,  True,  True,  True],\n",
       "       [ True,  True,  True,  True,  True,  True, False, False,  True,\n",
       "         True,  True, False,  True,  True,  True, False, False,  True,\n",
       "         True,  True,  True, False, False,  True,  True,  True,  True,\n",
       "         True,  True,  True, False, False, False, False,  True,  True,\n",
       "         True,  True, False, False, False,  True,  True,  True,  True,\n",
       "        False, False, False,  True,  True,  True,  True,  True,  True,\n",
       "        False, False,  True,  True,  True,  True, False, False, False],\n",
       "       [False, False, False, False, False, False, False, False,  True,\n",
       "         True,  True,  True, False, False, False, False, False, False,\n",
       "        False, False, False, False, False,  True,  True, False, False,\n",
       "        False, False, False, False, False,  True,  True,  True, False,\n",
       "        False, False, False, False, False, False, False, False, False,\n",
       "        False, False,  True,  True,  True, False, False, False, False,\n",
       "        False, False,  True,  True, False, False, False, False, False]])"
      ]
     },
     "execution_count": 40,
     "metadata": {},
     "output_type": "execute_result"
    }
   ],
   "source": [
    "\n",
    "\n",
    "result = [True, False, False, False, False, False, False, True, True, False, False, False, False, False, False, False, True, True, False, False, False, False, True, True, False, False, False, False, False, False, False, True, True, False, False, False, False, False, False, True, True, True, False, False, False, False, True, True, False, False, False, False, False, False, False, True, True, False, False, False, False, True, True, True, True, True, True, True, True, False, False, True, True, True, True, True, True, True, False, False, True, True, True, True, False, False, True, True, True, True, True, True, True, False, False, True, True, True, True, True, True, False, False, False, True, True, True, True, False, False, True, True, True, True, True, True, True, False, False, True, True, True, True, False, False, False, False, True, True, True, True, True, True, False, False, True, True, True, True, True, True, True, False, False, True, True, True, True, False, False, True, True, True, True, True, True, True, False, False, True, True, True, True, True, True, False, False, False, True, True, True, True, False, False, True, True, True, True, True, True, True, False, False, True, True, True, True, False, False, True, True, True, True, True, True, True, True, True, True, True, True, True, True, False, False, False, True, True, False, False, False, False, True, True, True, True, True, True, True, True, True, True, True, True, True, True, False, False, False, True, True, True, True, True, False, False, True, True, True, True, True, True, True, False, False, True, True, True, True, True, True, True, True, True, True, True, True, True, False, False, True, True, True, False, True, True, True, False, False, True, True, True, True, False, False, True, True, True, True, True, True, True, False, False, False, False, True, True, True, True, False, False, False, True, True, True, True, False, False, False, True, True, True, True, True, True, False, False, True, True, True, True, False, False, False, False, False, False, False, False, False, False, False, True, True, True, True, False, False, False, False, False, False, False, False, False, False, False, True, True, False, False, False, False, False, False, False, True, True, True, False, False, False, False, False, False, False, False, False, False, False, False, True, True, True, False, False, False, False, False, False, True, True, False, False, False, False, False] \n",
    "result = np.array(result)\n",
    "result = result.reshape((6, -1))\n",
    "\n",
    "# for i in range(result.shape[1]):\n",
    "#     if np.all(result[:,i] == True):\n",
    "#         print(\"hey\")\n",
    "result"
   ]
  },
  {
   "cell_type": "code",
   "execution_count": 25,
   "metadata": {},
   "outputs": [
    {
     "name": "stdout",
     "output_type": "stream",
     "text": [
      "Example 7 :\n",
      "groups:  29\n",
      "numShifts:  3\n",
      "demand:  [[5 5 5 5 5 5 5]\n",
      " [5 5 5 5 5 5 5]\n",
      " [5 5 5 5 5 5 5]]\n",
      "minShift:  [2, 2, 2]\n",
      "maxShift:  [7, 6, 5]\n",
      "minOff:  2\n",
      "maxOff:  4\n",
      "minOn:  4\n",
      "maxOn:  7\n",
      "forbidden:  {2: [1], 3: [1, 2]}\n",
      "forbidden3:  []\n",
      "=======================================================\n",
      "Everything's well.\n"
     ]
    }
   ],
   "source": [
    "import numpy as np\n",
    "\n",
    "# Input:\n",
    "path = \"data\\\\Example\"\n",
    "\n",
    "# TODO - Set the Instance number, and give the results of your experiment\n",
    "exNum = 7\n",
    "result = [2, 2, 3, 3, 3, 3, 3, 0, 0, 2, 2, 3, 3, 0, 0, 0, 0, 1, 1, 1, 2, 2, 2, 0, 0, 0, 0, 3, 3, 3, 3, 0, 0, 0, 0, 3, 3, 3, 3, 0, 0, 0, 0, 2, 2, 3, 3, 0, 0, 0, 0, 2, 2, 3, 3, 0, 0, 0, 0, 2, 2, 3, 3, 0, 0, 0, 0, 2, 2, 2, 2, 0, 0, 0, 0, 2, 2, 3, 3, 0, 0, 0, 0, 3, 3, 3, 3, 0, 0, 0, 0, 3, 3, 3, 3, 0, 0, 0, 0, 2, 2, 3, 3, 0, 0, 0, 0, 2, 2, 2, 2, 0, 0, 0, 0, 2, 2, 3, 3, 0, 0, 0, 0, 2, 2, 2, 2, 0, 0, 0, 0, 2, 2, 2, 2, 0, 0, 0, 0, 1, 1, 1, 1, 0, 0, 0, 0, 1, 1, 1, 1, 0, 0, 0, 0, 1, 1, 1, 1, 0, 0, 0, 0, 1, 1, 1, 1, 0, 0, 0, 0, 1, 1, 1, 1, 0, 0, 0, 0, 1, 1, 1, 1, 0, 0, 0, 0, 1, 1, 1, 1, 0, 0, 0, 0, 1, 1, 1, 1, 0, 0, 0, 0] \n",
    "o = 0\n",
    "\n",
    "groups, numShifts, demand, minShift, maxShift, minOff, maxOff, minOn, maxOn, forbidden, forbidden3 = readExample(exNum)\n",
    "\n",
    "preview()\n",
    "\n",
    "validate()"
   ]
  },
  {
   "cell_type": "markdown",
   "metadata": {},
   "source": [
    "## Assertions"
   ]
  },
  {
   "cell_type": "code",
   "execution_count": 2,
   "metadata": {},
   "outputs": [],
   "source": [
    "def validate():\n",
    "    # Assert that demand matrix is satisfied\n",
    "    eq1_2()\n",
    "    # Assert that symmetry constraints are satisfied\n",
    "    eq3_4()\n",
    "    # Assert that maximum and minimum shift constraints are satisfied\n",
    "    eq5_6()\n",
    "    # Assert that maximum and minimum consecutive working days are satisfied\n",
    "    eq7_8()\n",
    "    # Assert that fobidden constraints are satisfied\n",
    "    eq9()\n",
    "    eq10()\n",
    "    # Assert that offset constraint is satisfied\n",
    "    eq11()\n",
    "    print(\"Everything's well.\")"
   ]
  },
  {
   "cell_type": "markdown",
   "metadata": {},
   "source": [
    "## Preparatory scripts"
   ]
  },
  {
   "cell_type": "code",
   "execution_count": 3,
   "metadata": {},
   "outputs": [],
   "source": [
    "def readExample(exNum, path=\"data\\\\Example\"):\n",
    "    f = open(path + str(exNum) + \".dzn\", \"r\").read().split(\";\")\n",
    "    groups = int(f[0].split(\" \")[-1])\n",
    "    numShifts = int(f[1].split(\" \")[-1])\n",
    "\n",
    "    demand = []\n",
    "    string2 = f[2].split(\"=\")[1].split(\"|\")[1:][:-1]\n",
    "    for s in string2:\n",
    "        try:\n",
    "            demand.append(list(map(int, s.split(\"\\n\")[0][:-1].split(\",\"))))\n",
    "        except:\n",
    "            demand.append(list(map(int, s.split(\"\\n\")[0].split(\",\"))))\n",
    "    demand = np.stack(demand) \n",
    "\n",
    "\n",
    "    minShift = list(map(int, f[3].split(\"=\")[-1][2:-1].split(\",\")))\n",
    "    maxShift = list(map(int, f[4].split(\"=\")[-1][2:-1].split(\",\")))\n",
    "    minOff = int(f[5].split(\" \")[-1])\n",
    "    maxOff = int(f[6].split(\" \")[-1])\n",
    "    minOn = int(f[7].split(\" \")[-1])\n",
    "    maxOn = int(f[8].split(\" \")[-1])\n",
    "\n",
    "    forb = \" \".join(f[9].split(\" \")[2:])[1:-1].split(\"{\")[1:]\n",
    "    forbidden = {}\n",
    "    for idx,val in enumerate(forb):\n",
    "        try:\n",
    "            forbidden[idx+1] = list(map(int, val.split(\"}\")[0].split(\",\")))\n",
    "        except: \n",
    "            continue\n",
    "\n",
    "    forbidden3 = []\n",
    "    string2 = f[10].split(\"=\")[1].split(\"|\")[1:][:-1]\n",
    "    if not string2[0].isspace():    \n",
    "        for s in string2:\n",
    "            try:\n",
    "                forbidden3.append(list(map(int, s.split(\"\\n\")[0][:-1].split(\",\"))))\n",
    "            except:\n",
    "                forbidden3.append(list(map(int, s.split(\"\\n\")[0].split(\",\"))))\n",
    "        forbidden3 = np.stack(forbidden3) \n",
    "    return groups, numShifts, demand, minShift, maxShift, minOff, maxOff, minOn, maxOn, forbidden, forbidden3"
   ]
  },
  {
   "cell_type": "code",
   "execution_count": 4,
   "metadata": {},
   "outputs": [],
   "source": [
    "def preview():\n",
    "    print(\"Example\", exNum, \":\")\n",
    "#     print(\"\\n\")\n",
    "    print(\"groups: \", groups)\n",
    "    print(\"numShifts: \", numShifts)\n",
    "    print(\"demand: \", demand)\n",
    "    print(\"minShift: \", minShift)\n",
    "    print(\"maxShift: \", maxShift)\n",
    "    print(\"minOff: \", minOff)\n",
    "    print(\"maxOff: \", maxOff)\n",
    "    print(\"minOn: \", minOn)\n",
    "    print(\"maxOn: \", maxOn)\n",
    "    print(\"forbidden: \", forbidden)\n",
    "    print(\"forbidden3: \", forbidden3)\n",
    "    print(\"=======================================================\")"
   ]
  },
  {
   "cell_type": "markdown",
   "metadata": {},
   "source": [
    "## Equations 1, 2"
   ]
  },
  {
   "cell_type": "code",
   "execution_count": 5,
   "metadata": {},
   "outputs": [],
   "source": [
    "def eq1_2():\n",
    "\n",
    "    res_res = np.reshape(result, [-1, 7])\n",
    "    for w in range(7):\n",
    "        for i in range(1, numShifts+1):\n",
    "            assert demand[i-1, (w + o) % 7] == np.sum(res_res[:, w] == i)\n",
    "        assert np.sum(demand[:, (w + o) % 7]) == np.sum(res_res[:, w] != 0)\n",
    "    \n"
   ]
  },
  {
   "cell_type": "markdown",
   "metadata": {},
   "source": [
    "## Equations 3,4"
   ]
  },
  {
   "cell_type": "code",
   "execution_count": 6,
   "metadata": {},
   "outputs": [],
   "source": [
    "def eq3_4():\n",
    "    assert result[0] != 0\n",
    "    assert result[-1] == 0"
   ]
  },
  {
   "cell_type": "markdown",
   "metadata": {},
   "source": [
    "## Equations 5,6"
   ]
  },
  {
   "cell_type": "code",
   "execution_count": 7,
   "metadata": {},
   "outputs": [],
   "source": [
    "# Check max-min consecutive shifts (equations 5,6)\n",
    "def CheckShifts(num, result):\n",
    "    max_counter = -1\n",
    "    min_counter = len(result) + 1\n",
    "\n",
    "    counter = 0\n",
    "    for res in result:\n",
    "        if res == num:\n",
    "            counter += 1\n",
    "        elif counter > 0:\n",
    "            if counter > max_counter:\n",
    "                max_counter = counter\n",
    "            if counter < min_counter:\n",
    "                min_counter = counter\n",
    "            counter = 0\n",
    "    if counter > 0:\n",
    "        if counter > max_counter:\n",
    "            max_counter = counter\n",
    "        if counter < min_counter:\n",
    "            min_counter = counter\n",
    "        counter = 0\n",
    "        \n",
    "    return min_counter, max_counter\n",
    "\n",
    "def eq5_6():\n",
    "    # Check shifts\n",
    "    shifts = range(1, numShifts+1)\n",
    "\n",
    "    for num in shifts:\n",
    "\n",
    "        min_counter, max_counter = CheckShifts(num, result)\n",
    "        if min_counter < minShift[num-1]:\n",
    "            print(\"ERROR MinShift constraints for shift\", num)\n",
    "            print(min_counter, minShift[num-1])\n",
    "        if max_counter > maxShift[num-1]:\n",
    "            print(\"ERROR MaxShift constraints for shift\", num)\n",
    "\n",
    "    # Check off-day\n",
    "    min_counter, max_counter = CheckShifts(0, result)\n",
    "\n",
    "    if min_counter < minOff:\n",
    "        print(\"ERROR MinShift constraints for off day\")\n",
    "        print(min_counter, minShift[num-1])\n",
    "    if max_counter > maxOff:\n",
    "        print(\"ERROR MaxShift constraints for off day\")"
   ]
  },
  {
   "cell_type": "markdown",
   "metadata": {},
   "source": [
    "## Equations 7,8"
   ]
  },
  {
   "cell_type": "code",
   "execution_count": 8,
   "metadata": {},
   "outputs": [],
   "source": [
    "# Check consecutive days with no day-off: (equations 7,8)\n",
    "def checkWorkDays(result):\n",
    "    max_counter = -1\n",
    "    min_counter = len(result) + 1\n",
    "\n",
    "    counter = 0\n",
    "    for res in result:\n",
    "        if res != 0:\n",
    "            counter += 1\n",
    "        elif counter > 0:\n",
    "            if counter > max_counter:\n",
    "                max_counter = counter\n",
    "            if counter < min_counter:\n",
    "                min_counter = counter\n",
    "            counter = 0\n",
    "    if counter > 0:\n",
    "        if counter > max_counter:\n",
    "            max_counter = counter\n",
    "        if counter < min_counter:\n",
    "            min_counter = counter\n",
    "        counter = 0\n",
    "        \n",
    "    return min_counter, max_counter\n",
    "\n",
    "def eq7_8():\n",
    "    min_counter, max_counter = checkWorkDays(result)\n",
    "    if min_counter < minOn:\n",
    "        print(\"ERROR MinOn constraint\")\n",
    "        print(min_counter, minOn)\n",
    "    if max_counter > maxOn:\n",
    "        print(\"ERROR MaxOn constraint\")\n",
    "        print(max_counter, maxOn)"
   ]
  },
  {
   "cell_type": "markdown",
   "metadata": {},
   "source": [
    "## Equations 9,10"
   ]
  },
  {
   "cell_type": "code",
   "execution_count": 9,
   "metadata": {},
   "outputs": [],
   "source": [
    "# Testing equations 9,10\n",
    "def eq9():\n",
    "    for s in range(1, numShifts+1):\n",
    "        if s in forbidden.keys():\n",
    "            for idx in range(len(result)-1):\n",
    "                if result[idx] == s:\n",
    "                    assert result[idx+1] not in forbidden[s] \n",
    "    \n",
    "def eq10():\n",
    "    res_ravelled = result + result\n",
    "#     import pdb; pdb.set_trace()\n",
    "    for row in forbidden3:\n",
    "        for i in range(len(result)):\n",
    "            assert not np.all(res_ravelled[i:i+len(row)] == row)\n"
   ]
  },
  {
   "cell_type": "markdown",
   "metadata": {},
   "source": [
    "## Equations 11"
   ]
  },
  {
   "cell_type": "code",
   "execution_count": 10,
   "metadata": {},
   "outputs": [],
   "source": [
    "# Testing eq 11 \n",
    "def eq11():\n",
    "    demand_sum = np.sum(demand, axis=0)\n",
    "#     import pdb;pdb.set_trace()\n",
    "    o_expected = np.where(demand_sum[1:] - np.roll(demand_sum, 1)[1:]>0)[0]\n",
    "    if len(o_expected) > 0:\n",
    "        assert o == o_expected[0] + 1\n",
    "    else:\n",
    "        assert o == 0"
   ]
  },
  {
   "cell_type": "code",
   "execution_count": null,
   "metadata": {},
   "outputs": [],
   "source": []
  }
 ],
 "metadata": {
  "kernelspec": {
   "display_name": "Python 3",
   "language": "python",
   "name": "python3"
  },
  "language_info": {
   "codemirror_mode": {
    "name": "ipython",
    "version": 3
   },
   "file_extension": ".py",
   "mimetype": "text/x-python",
   "name": "python",
   "nbconvert_exporter": "python",
   "pygments_lexer": "ipython3",
   "version": "3.8.5"
  }
 },
 "nbformat": 4,
 "nbformat_minor": 4
}
